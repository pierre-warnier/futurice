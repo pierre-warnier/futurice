{
 "cells": [
  {
   "cell_type": "code",
   "execution_count": 1,
   "metadata": {
    "collapsed": false
   },
   "outputs": [],
   "source": [
    "import pandas as pd\n",
    "from sklearn import metrics\n",
    "import re\n",
    "import StringIO"
   ]
  },
  {
   "cell_type": "code",
   "execution_count": 2,
   "metadata": {
    "collapsed": true
   },
   "outputs": [],
   "source": [
    "data_file = 'old_projects_dataset.csv'"
   ]
  },
  {
   "cell_type": "code",
   "execution_count": 3,
   "metadata": {
    "collapsed": false
   },
   "outputs": [],
   "source": [
    "# remove inconsistencies in whitespaces found in the input file\n",
    "r = re.compile('\\s+')\n",
    "cleaned_file_as_string = '\\n'.join(r.sub('', line) for line in open(data_file))\n",
    "\n",
    "# create a DataFrame from the string read as a file\n",
    "raw_data = pd.read_csv(StringIO.StringIO(cleaned_file_as_string), index_col='id')"
   ]
  },
  {
   "cell_type": "code",
   "execution_count": 4,
   "metadata": {
    "collapsed": false,
    "scrolled": false
   },
   "outputs": [],
   "source": [
    "# create the similarity matrix (not optimized for speed)\n",
    "sim_mat = pd.DataFrame()\n",
    "\n",
    "for l1 in raw_data.columns:\n",
    "    for l2 in raw_data.columns:\n",
    "        sim_mat.ix[l1, l2] = metrics.mutual_info_score(raw_data[l1], raw_data[l2])"
   ]
  },
  {
   "cell_type": "code",
   "execution_count": 5,
   "metadata": {
    "collapsed": false,
    "scrolled": true
   },
   "outputs": [],
   "source": [
    "# create a lookup table\n",
    "def format_results(s):\n",
    "    sorted_s = s.sort_values(ascending=False)\n",
    "    return '\\n'.join(\"%.7f,%s\" %(score, label) for label,score in sorted_s.iteritems())\n",
    "\n",
    "lookup_table = dict((c, format_results(sim_mat[c])) for c in sim_mat.columns)"
   ]
  },
  {
   "cell_type": "code",
   "execution_count": 6,
   "metadata": {
    "collapsed": false
   },
   "outputs": [
    {
     "name": "stdout",
     "output_type": "stream",
     "text": [
      "mi,result_customer_was_happy\n",
      "0.4029414,result_customer_was_happy\n",
      "0.3644332,acceptance_testing\n",
      "0.3334410,multicompetence_team\n",
      "0.3192147,retrospectives\n",
      "0.3098581,customer_as_product_owner\n",
      "0.2623790,iterative\n",
      "0.2497143,ux_kickstart\n",
      "0.1229104,result_things_went_as_predicted\n",
      "0.1175668,project_tries_new_ways_or_technologies\n",
      "0.1077511,customer_understands_technology\n",
      "0.0927473,customer_is_big\n",
      "0.0839872,project_has_clear_scope_and_focus\n",
      "0.0830698,project_has_unknowns\n",
      "0.0819464,people_are_senior\n",
      "0.0815852,result_numbers_ended_good\n",
      "0.0792367,people_know_the_technology\n",
      "0.0788356,customer_understands_products\n",
      "0.0669144,result_people_were_happy\n",
      "0.0562879,people_are_interested\n",
      "0.0562879,result_product_was_good\n",
      "0.0475922,customer_is_hands_on\n",
      "0.0431396,project_is_technically_challenging\n",
      "0.0395743,result_new_doors_were_opened\n",
      "0.0380199,project_is_large\n",
      "0.0345289,project_has_optimistic_schedule\n",
      "0.0278687,contract_has_fixed_price\n",
      "0.0267178,customer_seems_fair\n",
      "0.0227648,customer_shares_our_expectations\n",
      "0.0175776,customer_is_old\n",
      "0.0023733,contract_has_fixed_scope\n"
     ]
    }
   ],
   "source": [
    "def get_similarities(variable):\n",
    "    if variable not in lookup_table:\n",
    "        return \"variable must be in: %s\" %lookup_table.keys()\n",
    "    return \"mi,%s\\n%s\" % (variable, lookup_table[variable])\n",
    "\n",
    "variable = 'result_customer_was_happy'\n",
    "print get_similarities(variable)"
   ]
  },
  {
   "cell_type": "code",
   "execution_count": null,
   "metadata": {
    "collapsed": true
   },
   "outputs": [],
   "source": []
  }
 ],
 "metadata": {
  "kernelspec": {
   "display_name": "Python 2",
   "language": "python",
   "name": "python2"
  },
  "language_info": {
   "codemirror_mode": {
    "name": "ipython",
    "version": 2
   },
   "file_extension": ".py",
   "mimetype": "text/x-python",
   "name": "python",
   "nbconvert_exporter": "python",
   "pygments_lexer": "ipython2",
   "version": "2.7.12"
  }
 },
 "nbformat": 4,
 "nbformat_minor": 1
}
